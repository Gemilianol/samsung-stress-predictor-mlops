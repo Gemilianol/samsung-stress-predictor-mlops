{
 "cells": [
  {
   "cell_type": "markdown",
   "id": "921f7a54",
   "metadata": {},
   "source": [
    "# 📁 02 - Exploratory Data Analysis (EDA)\n",
    "\n",
    "### 🎯 Objective\n",
    "This notebook explores the cleaned and merged dataset to understand patterns, trends, and potential relationships between variables. The focus is on the target variable (e.g., `stress_score`) and its interactions with other features like nutrition, sleep, heart rate, and physical activity.\n",
    "\n",
    "---\n",
    "\n",
    "### 🛠️ Key Steps\n",
    "\n",
    "1. **Trend & Seasonality**  \n",
    "   - Line plot of the target over time  \n",
    "   - Time decomposition (trend, seasonal, residual)\n",
    "\n",
    "2. **Distributions & Outliers**  \n",
    "   - Histogram and boxplots of the target variable \n",
    "   - Comparison between weekday and weekend behaviors\n",
    "\n",
    "3. **Relationships**  \n",
    "   - Scatter plots of target vs selected variables  \n",
    "\n",
    "4. **Correlation Analysis**  \n",
    "   - Heatmaps of normal features  \n",
    "   - Identify multicollinearity or predictive potential\n",
    "\n",
    "5. **Autocorrelation & Lag Structure**  \n",
    "   - ACF and PACF plots  \n",
    "   - Manual lag feature creation for temporal impact analysis\n",
    "\n",
    "---\n",
    "\n",
    "### 📦 Output\n",
    "- **Charts and plots** supporting interpretation of features  \n",
    "- **Feature candidates** to be carried forward into modeling  \n",
    "\n",
    "---\n",
    "\n",
    "> 📝 Note: Insights from this notebook are used to guide feature engineering and model selection in the next stage of the pipeline.\n"
   ]
  },
  {
   "cell_type": "code",
   "execution_count": null,
   "id": "279c7729",
   "metadata": {},
   "outputs": [],
   "source": [
    "import pandas as pd\n",
    "import numpy as np\n",
    "np.set_printoptions(suppress=True)"
   ]
  },
  {
   "cell_type": "code",
   "execution_count": null,
   "id": "0c19f9ed",
   "metadata": {},
   "outputs": [],
   "source": [
    "# Due data manipulation (to float64) from the preview notbook, the NaN are treat them as zero values.\n",
    "# For this reason, some calls show them as NaN and some not.\n",
    "data = pd.read_csv('../data/processed/data.csv')"
   ]
  },
  {
   "cell_type": "code",
   "execution_count": null,
   "id": "7145a550",
   "metadata": {},
   "outputs": [],
   "source": [
    "data.dtypes"
   ]
  },
  {
   "cell_type": "code",
   "execution_count": null,
   "id": "80fa02f3",
   "metadata": {},
   "outputs": [],
   "source": [
    "data.head()"
   ]
  },
  {
   "cell_type": "code",
   "execution_count": null,
   "id": "8043b763",
   "metadata": {},
   "outputs": [],
   "source": [
    "data.tail()"
   ]
  },
  {
   "cell_type": "code",
   "execution_count": null,
   "id": "a9dc6fd8",
   "metadata": {},
   "outputs": [],
   "source": [
    "data.info()"
   ]
  },
  {
   "cell_type": "code",
   "execution_count": null,
   "id": "a1f45f95",
   "metadata": {},
   "outputs": [],
   "source": [
    "data.describe(include='all')"
   ]
  },
  {
   "cell_type": "markdown",
   "id": "29d154fb",
   "metadata": {},
   "source": [
    "---"
   ]
  },
  {
   "cell_type": "markdown",
   "id": "0c591d2f",
   "metadata": {},
   "source": [
    "#### Feature Engeneering (Just for Plotting purposes)"
   ]
  },
  {
   "cell_type": "code",
   "execution_count": null,
   "id": "fe377b57",
   "metadata": {},
   "outputs": [],
   "source": [
    "# First transform the date to date time:\n",
    "data['date'] = pd.to_datetime(data['date'])\n",
    "\n",
    "# Then, you can extract all these features from it:\n",
    "data['year'] = data['date'].dt.year\n",
    "data['month'] = data['date'].dt.month\n",
    "data['day_of_week'] = data['date'].dt.dayofweek\n",
    "data['is_weekend'] = data['day_of_week'].isin([5, 6]).astype(int)\n"
   ]
  },
  {
   "cell_type": "markdown",
   "id": "06c19df1",
   "metadata": {},
   "source": [
    "---"
   ]
  },
  {
   "cell_type": "markdown",
   "id": "5b490d49",
   "metadata": {},
   "source": [
    "#### Data Visualization\n",
    "##### Due high dimmentionality context, I'll only plot the variables or relationships that personally seems interesting to me."
   ]
  },
  {
   "cell_type": "code",
   "execution_count": null,
   "id": "c007ffaa",
   "metadata": {},
   "outputs": [],
   "source": [
    "import matplotlib.pyplot as plt\n",
    "import seaborn as sns\n",
    "\n",
    "# First, I'm interesting on see the target variable over time so:\n",
    "plt.figure(figsize=(18, 9))\n",
    "sns.lineplot(x='date', y='stress_score', data=data)\n",
    "plt.title('Stress Score over Time')\n",
    "plt.xlabel('Date')\n",
    "plt.ylabel('Stress Score')\n",
    "plt.tight_layout()\n",
    "plt.show()"
   ]
  },
  {
   "cell_type": "code",
   "execution_count": null,
   "id": "0a7ed1c1",
   "metadata": {},
   "outputs": [],
   "source": [
    "import matplotlib.pyplot as plt\n",
    "from statsmodels.tsa.seasonal import seasonal_decompose\n",
    "\n",
    "# Decompose\n",
    "decomp = seasonal_decompose(data['stress_score'], model='additive', period=7)\n",
    "\n",
    "# Plot with customization\n",
    "fig, axs = plt.subplots(4, 1, figsize=(12, 8), sharex=True)\n",
    "\n",
    "axs[0].plot(decomp.observed, label='Observed', color='black')\n",
    "axs[0].legend(loc='upper left')\n",
    "axs[0].set_ylabel('Score')\n",
    "\n",
    "axs[1].plot(decomp.trend, label='Trend', color='blue')\n",
    "axs[1].legend(loc='upper left')\n",
    "axs[1].set_ylabel('Trend')\n",
    "\n",
    "axs[2].plot(decomp.seasonal, label='Seasonality', color='green')\n",
    "axs[2].legend(loc='upper left')\n",
    "axs[2].set_ylabel('Seasonal')\n",
    "\n",
    "axs[3].plot(decomp.resid, label='Residuals', color='red')\n",
    "axs[3].legend(loc='upper left')\n",
    "axs[3].set_ylabel('Residuals')\n",
    "axs[3].set_xlabel('Date')\n",
    "\n",
    "# Super Title\n",
    "plt.suptitle('Seasonal Decomposition of Stress Score', fontsize=14)\n",
    "# Automatically adjusts subplot parameters\n",
    "plt.tight_layout()\n",
    "plt.show()\n"
   ]
  },
  {
   "cell_type": "code",
   "execution_count": null,
   "id": "0e9ca158",
   "metadata": {},
   "outputs": [],
   "source": [
    "# What about the values' distribution of the target?\n",
    "plt.figure(figsize=(12,8))\n",
    "sns.histplot(data['stress_score'])\n",
    "plt.title(\"Histogram of Stress Score\")\n",
    "plt.xlabel('Stress Score')\n",
    "plt.ylabel('Number of occurrences')\n",
    "plt.show()"
   ]
  },
  {
   "cell_type": "markdown",
   "id": "7135e80b",
   "metadata": {},
   "source": [
    "- Beyond some outliers present, the 'Stress Score' distribution seem to be normal."
   ]
  },
  {
   "cell_type": "code",
   "execution_count": null,
   "id": "677edebc",
   "metadata": {},
   "outputs": [],
   "source": [
    "plt.figure(figsize=(6,14))\n",
    "sns.boxenplot(data['stress_score'])\n",
    "plt.title('Boxplot of Stress Score')\n",
    "plt.ylabel('Value')\n",
    "plt.show()"
   ]
  },
  {
   "cell_type": "code",
   "execution_count": null,
   "id": "c4da9376",
   "metadata": {},
   "outputs": [],
   "source": [
    "# The day of the week afect the stress score?\n",
    "plt.figure(figsize=(12,8))\n",
    "sns.boxenplot(data=data, x='day_of_week', y='stress_score')\n",
    "plt.title('Stress Score per Day of the week')\n",
    "plt.xlabel('Day of the week')\n",
    "# Here first need to declare as a list the original xticks and then rename them:\n",
    "plt.xticks([0,1,2,3,4,5,6], ['Monday', 'Tuesday', 'Wednesday', 'Thursday', 'Friday', 'Saturday', 'Sunday'])\n",
    "plt.ylabel('Stress Score')\n",
    "plt.show()"
   ]
  },
  {
   "cell_type": "code",
   "execution_count": null,
   "id": "c77ac1d0",
   "metadata": {},
   "outputs": [],
   "source": [
    "# What about the stress score vs sleep mental recovery and Sleep Score?\n",
    "fig, axes = plt.subplots(1,2, figsize=(12,8)) # 1 row two columns so you need to access in this way:\n",
    "\n",
    "axes[0].scatter(x='stress_score', y='sleep_mental_recovery', data=data)\n",
    "axes[0].set_title('Stress and Sleep Mental Recovery')\n",
    "axes[0].set_xlabel('Stress Score')\n",
    "axes[0].set_ylabel('Sleep Mental Recovery')\n",
    "\n",
    "axes[1].scatter(x='stress_score', y='sleep_sleep_score', data=data)\n",
    "axes[1].set_title('Stress and Sleep Score')\n",
    "axes[1].set_xlabel('Stress Score')\n",
    "axes[1].set_ylabel('Sleep Score')\n",
    "\n",
    "plt.show()"
   ]
  },
  {
   "cell_type": "markdown",
   "id": "52e15406",
   "metadata": {},
   "source": [
    "- Seems follow a uniform distribution so no relationship at all."
   ]
  },
  {
   "cell_type": "code",
   "execution_count": null,
   "id": "35af4fbc",
   "metadata": {},
   "outputs": [],
   "source": [
    "# And if we check the main macronutrients and total calories against stress score?\n",
    "\n",
    "# Create a figure and a 2x2 grid of subplots\n",
    "fig, axes = plt.subplots(2, 2, figsize=(12, 12)) # 2 rows, 2 columns\n",
    "\n",
    "axes[0,0].scatter(x='ingested_calories', y='stress_score', data=data)\n",
    "axes[0,0].set_title('Ingested Calories vs Stress Score')\n",
    "\n",
    "axes[0,1].scatter(x='carbohydrate', y='stress_score', data=data)\n",
    "axes[0,1].set_title('Carbs vs Stress Score')\n",
    "\n",
    "axes[1,0].scatter(x='protein', y='stress_score', data=data)\n",
    "axes[1,0].set_title('Protein vs Stress Score')\n",
    "\n",
    "axes[1,1].scatter(x='total_fat', y='stress_score', data=data)\n",
    "axes[1,1].set_title('Fats vs Stress Score')\n",
    "plt.show()"
   ]
  },
  {
   "cell_type": "code",
   "execution_count": null,
   "id": "c70834fd",
   "metadata": {},
   "outputs": [],
   "source": [
    "# Activity Day against Stress Score:\n",
    "fig, axes = plt.subplots(2,2, figsize=(12,12))\n",
    "\n",
    "axes[0,0].scatter(x='total_excercise_calories', y='stress_score', data=data)\n",
    "axes[0,0].set_title('Total Excercise Calories vs Stress Score')\n",
    "axes[0,0].set_xlabel('Total excercise calories')\n",
    "axes[0,0].set_ylabel('Stress Score')\n",
    "\n",
    "axes[0,1].scatter(x='burned_tef_calories', y='stress_score', data=data)\n",
    "axes[0,1].set_title('Burned TEF Calories vs Stress Score')\n",
    "axes[0,1].set_xlabel('Burned TEF calories')\n",
    "axes[0,1].set_ylabel('Stress Sore')\n",
    "\n",
    "axes[1,0].scatter(x='burned_active_time', y='stress_score', data=data)\n",
    "axes[1,0].set_title('Burned Active Time VS Stress Score')\n",
    "axes[1,0].set_xlabel('Burned Active Time')\n",
    "axes[1,0].set_ylabel('Stress Sore')\n",
    "\n",
    "axes[1,1].scatter(x='burned_rest_calories', y='stress_score', data=data)\n",
    "axes[1,1].set_title('Burned Rest Calories VS Stress Score')\n",
    "axes[1,1].set_xlabel('Burned Rest Calories')\n",
    "axes[1,1].set_ylabel('Stress Score')\n",
    "\n",
    "plt.show()"
   ]
  },
  {
   "cell_type": "code",
   "execution_count": null,
   "id": "931ea3a0",
   "metadata": {},
   "outputs": [],
   "source": [
    "#Due the high dimmentionality I will select, based on my personal judgment, some features:\n",
    "interest_cols = ['total_floors_climbed', 'potassium', 'total_fat', 'protein',\n",
    "                 'sugar', 'ingested_calories', 'carbohydrate', 'body_fat', 'step_count',\n",
    "                 'total_excercise_calories', 'burned_tef_calories', \n",
    "                 'burned_active_time','burned_rest_calories', \n",
    "                 'sleep_mental_recovery','sleep_physical_recovery',\n",
    "                'sleep_movement_awakening', 'stress_score', 'heart_rate']\n",
    "\n",
    "#In order to check correlations:\n",
    "plt.figure(figsize=(16,10))\n",
    "sns.heatmap(data[interest_cols].corr(), annot=True, cmap='coolwarm')\n",
    "plt.title('Selected Feature Correlation')\n",
    "plt.show()\n"
   ]
  },
  {
   "cell_type": "markdown",
   "id": "f8c2e1aa",
   "metadata": {},
   "source": [
    "##### Some insights:\n",
    "- For these subset of features, we can see a lot of correlations are insignificatelly, so no multicollinearity at first hands. \n",
    "- If the model that we will use do feature selection by itself perhaps it's not important, but if we need to drop features manually then this type of analysis helps with this task. "
   ]
  },
  {
   "cell_type": "markdown",
   "id": "87861614",
   "metadata": {},
   "source": [
    "----"
   ]
  },
  {
   "cell_type": "markdown",
   "id": "99be93d6",
   "metadata": {},
   "source": [
    "#### Time Series Analysis\n",
    "##### The real power of time series EDA is that, you're not just looking at static relationships (as in classic tabular EDA), but temporal effects which can reveal patterns you’d completely miss otherwise. If we think a moment, what we eat today could affect how we will sleep at night. In the same way, the stress of today perhaps affect how we will feel when we wake up tomorrow."
   ]
  },
  {
   "cell_type": "code",
   "execution_count": null,
   "id": "b26f710a",
   "metadata": {},
   "outputs": [],
   "source": [
    "from statsmodels.graphics.tsaplots import plot_acf, plot_pacf\n",
    "import matplotlib.pyplot as plt\n",
    "\n",
    "# Autocorrelation Plot (ACF)\n",
    "fig, ax = plt.subplots(figsize=(10, 4))\n",
    "plot_acf(data['stress_score'].dropna(), lags=30, ax=ax, alpha=0.05)\n",
    "ax.set_title('Autocorrelation of Stress Score')\n",
    "ax.set_xlabel('Lag (days)')\n",
    "ax.set_ylabel('Correlation')\n",
    "plt.grid(True)\n",
    "plt.tight_layout()\n",
    "plt.show()\n",
    "\n",
    "# Partial Autocorrelation Plot (PACF)\n",
    "fig, ax = plt.subplots(figsize=(10, 4))\n",
    "plot_pacf(data['stress_score'].dropna(), lags=30, ax=ax, alpha=0.05, method='ywm')  # 'ywm' is stable\n",
    "ax.set_title('Partial Autocorrelation of Stress Score')\n",
    "ax.set_xlabel('Lag (days)')\n",
    "ax.set_ylabel('Partial Correlation')\n",
    "plt.grid(True)\n",
    "plt.tight_layout()\n",
    "plt.show()\n"
   ]
  },
  {
   "cell_type": "code",
   "execution_count": null,
   "id": "02af3b32",
   "metadata": {},
   "outputs": [],
   "source": [
    "from statsmodels.tsa.stattools import adfuller\n",
    "\n",
    "result = adfuller(data['stress_score'].dropna())\n",
    "result\n",
    "#p-value: 0.022 => p < 0.05 => stationary\n"
   ]
  },
  {
   "cell_type": "code",
   "execution_count": null,
   "id": "cef9789e",
   "metadata": {},
   "outputs": [],
   "source": [
    "# We will 'shift' the values one day:\n",
    "data['stress_score_lagged'] = data['stress_score'].shift(1)\n",
    "\n",
    "#Key notation: .shift() returns a Series, and dropna(inplace=True) on a Series returns None."
   ]
  },
  {
   "cell_type": "code",
   "execution_count": null,
   "id": "6267359d",
   "metadata": {},
   "outputs": [],
   "source": [
    "# In the same way, we will do the same for 'sleep mental recovery':\n",
    "data['sleep_mental_recovery_lagged'] = data['sleep_mental_recovery'].shift(1)\n",
    "\n",
    "# For the ingested calories:\n",
    "data['ingested_calories_lagged'] = data['ingested_calories'].shift(1)\n",
    "\n",
    "#And for the burned calories too:\n",
    "data['burned_active_time_lagged'] = data['burned_active_time'].shift(1)\n",
    "data['burned_rest_calories_lagged'] = data['burned_rest_calories'].shift(1)\n",
    "data['burned_tef_calories_lagged'] = data['burned_tef_calories'].shift(1)\n",
    "data['total_steps_burned_calories_lagged'] = data['total_steps_burned_calories'].shift(1)\n",
    "\n",
    "# At the end, we will drop the na introduced by the shifted features:\n",
    "data.dropna(subset=['stress_score_lagged', \n",
    "                    'sleep_mental_recovery_lagged',\n",
    "                    'ingested_calories_lagged',\n",
    "                    'burned_active_time_lagged',\n",
    "                    'burned_rest_calories_lagged',\n",
    "                    'burned_tef_calories_lagged',\n",
    "                    'total_steps_burned_calories_lagged'], inplace=True)"
   ]
  },
  {
   "cell_type": "code",
   "execution_count": null,
   "id": "44171f37",
   "metadata": {},
   "outputs": [],
   "source": [
    "fig, axes = plt.subplots(2,2, figsize=(12,12))\n",
    "\n",
    "# How the stress of yesterday affects the sleep mental recovery?\n",
    "axes[0,0].scatter(x='sleep_mental_recovery', y='stress_score_lagged', data=data)\n",
    "axes[0,0].set_title('Sleep Mental Recovery VS Stress Score Lagged')\n",
    "axes[0,0].set_xlabel('Sleep Mental Recovery')\n",
    "axes[0,0].set_ylabel('Stress Score Lagged')\n",
    "\n",
    "# How sleep badly yesterday affects the stress today?\n",
    "axes[0,1].scatter(x='sleep_mental_recovery_lagged', y='stress_score', data=data)\n",
    "axes[0,1].set_title('Sleep Mental Recovery Lagged VS Stress Score ')\n",
    "axes[0,1].set_xlabel('Sleep Mental Recovery Lagged')\n",
    "axes[0,1].set_ylabel('Stress Score')\n",
    "\n",
    "# How the yesterday's stress affects the amount of calories ingested today?\n",
    "axes[1,0].scatter(x='ingested_calories', y='stress_score_lagged', data=data)\n",
    "axes[1,0].set_title('Ingested Calories VS Stress Score Lagged')\n",
    "axes[1,0].set_xlabel('Ingested Calories')\n",
    "axes[1,0].set_ylabel('Stress Score Lagged')\n",
    "\n",
    "# How the amount of ingested calories yersterday affects the stress of today?\n",
    "axes[1,1].scatter(x='ingested_calories_lagged', y='stress_score', data=data)\n",
    "axes[1,1].set_title('Ingested Calories Lagged VS Stress Score')\n",
    "axes[1,1].set_xlabel('Ingested Calories Lagged')\n",
    "axes[1,1].set_ylabel('Stress Score')"
   ]
  },
  {
   "cell_type": "markdown",
   "id": "e6c016fc",
   "metadata": {},
   "source": [
    "## 📌 Insights Summary\n",
    "\n",
    "- **Target Variable — Stress Score:**  \n",
    "  - The series shows clear **trend**, **seasonality**, and **cyclic behavior**.  \n",
    "  - Residuals appear to have **zero mean** and **constant variance**.  \n",
    "  - The distribution seems approximately **normal**.  \n",
    "  - No clear differences were found between **weekdays and weekends**.\n",
    "\n",
    "- **Interactions with Other Features:**  \n",
    "  - **Sleep metrics** (e.g., mental recovery) and **food intake** do **not** show strong direct relationships with the stress score.  \n",
    "  - Initial scatterplots suggest only weak or no visible patterns.\n",
    "\n",
    "- **Lagged Features:**  \n",
    "  - Introducing 1-day lagged versions of some features **did not reveal new patterns** or stronger relationships with the target variable.\n",
    "\n",
    "- **Multicollinearity:**  \n",
    "  - Most selected features show **low pairwise correlations**, suggesting no immediate multicollinearity concerns.\n",
    "\n",
    "- **Time Structure Validated:**  \n",
    "  - **ACF/PACF** plots and **seasonal decomposition** confirmed a **weekly seasonality**, justifying the use of time-aware modeling strategies.\n",
    "\n",
    "---\n",
    "\n",
    "➡️ These findings informed the decision to proceed with **time series–oriented models** (like XGBoost, RNNs, or LSTMs) using a **reduced feature set** for better generalization and interpretability.\n"
   ]
  }
 ],
 "metadata": {
  "kernelspec": {
   "display_name": "venv",
   "language": "python",
   "name": "python3"
  },
  "language_info": {
   "codemirror_mode": {
    "name": "ipython",
    "version": 3
   },
   "file_extension": ".py",
   "mimetype": "text/x-python",
   "name": "python",
   "nbconvert_exporter": "python",
   "pygments_lexer": "ipython3",
   "version": "3.10.11"
  }
 },
 "nbformat": 4,
 "nbformat_minor": 5
}
